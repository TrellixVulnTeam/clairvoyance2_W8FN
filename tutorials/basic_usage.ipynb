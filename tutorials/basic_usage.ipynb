{
 "cells": [
  {
   "cell_type": "markdown",
   "metadata": {},
   "source": [
    "## Basic Usage\n",
    "\n",
    "`TODO: More detail`"
   ]
  },
  {
   "cell_type": "markdown",
   "metadata": {},
   "source": [
    "### 1. Get an example dataset."
   ]
  },
  {
   "cell_type": "code",
   "execution_count": 1,
   "metadata": {},
   "outputs": [],
   "source": [
    "from clairvoyance2.datasets import dummy_dataset\n",
    "\n",
    "data = dummy_dataset(\n",
    "    n_samples = 100,\n",
    "    temporal_covariates_n_features = 5,\n",
    "    temporal_covariates_max_len = 30,\n",
    "    temporal_covariates_missing_prob = 0.1,\n",
    "    static_covariates_n_features = 4,\n",
    "    static_covariates_missing_prob = 0.0\n",
    ")"
   ]
  },
  {
   "cell_type": "markdown",
   "metadata": {},
   "source": [
    "Dataset components (temporal and static covariates) can be seen with their corresponding feature dimensions listed."
   ]
  },
  {
   "cell_type": "code",
   "execution_count": 2,
   "metadata": {},
   "outputs": [
    {
     "data": {
      "text/plain": [
       "Dataset(\n",
       "    temporal_covariates=TimeSeriesSamples([100,*,5]),\n",
       "    static_covariates=StaticSamples([100,4]),\n",
       ")"
      ]
     },
     "execution_count": 2,
     "metadata": {},
     "output_type": "execute_result"
    }
   ],
   "source": [
    "data"
   ]
  },
  {
   "cell_type": "markdown",
   "metadata": {},
   "source": [
    "Preview temporal covariates."
   ]
  },
  {
   "cell_type": "code",
   "execution_count": 3,
   "metadata": {},
   "outputs": [
    {
     "data": {
      "text/html": [
       "<p><span style=\"font-family: monospace;\">TimeSeriesSamples()</span> with data:</p><div>\n",
       "<style scoped>\n",
       "    .dataframe tbody tr th:only-of-type {\n",
       "        vertical-align: middle;\n",
       "    }\n",
       "\n",
       "    .dataframe tbody tr th {\n",
       "        vertical-align: top;\n",
       "    }\n",
       "\n",
       "    .dataframe thead th {\n",
       "        text-align: right;\n",
       "    }\n",
       "</style>\n",
       "<table border=\"1\" class=\"dataframe\">\n",
       "  <thead>\n",
       "    <tr style=\"text-align: right;\">\n",
       "      <th></th>\n",
       "      <th></th>\n",
       "      <th>0</th>\n",
       "      <th>1</th>\n",
       "      <th>2</th>\n",
       "      <th>3</th>\n",
       "      <th>4</th>\n",
       "    </tr>\n",
       "    <tr>\n",
       "      <th>s_idx</th>\n",
       "      <th>t_idx</th>\n",
       "      <th></th>\n",
       "      <th></th>\n",
       "      <th></th>\n",
       "      <th></th>\n",
       "      <th></th>\n",
       "    </tr>\n",
       "  </thead>\n",
       "  <tbody>\n",
       "    <tr>\n",
       "      <th rowspan=\"5\" valign=\"top\">0</th>\n",
       "      <th>0</th>\n",
       "      <td>0.419045</td>\n",
       "      <td>0.893763</td>\n",
       "      <td>0.780285</td>\n",
       "      <td>0.660508</td>\n",
       "      <td>1.047522</td>\n",
       "    </tr>\n",
       "    <tr>\n",
       "      <th>1</th>\n",
       "      <td>1.257931</td>\n",
       "      <td>2.172271</td>\n",
       "      <td>NaN</td>\n",
       "      <td>2.360713</td>\n",
       "      <td>1.981578</td>\n",
       "    </tr>\n",
       "    <tr>\n",
       "      <th>2</th>\n",
       "      <td>2.247657</td>\n",
       "      <td>NaN</td>\n",
       "      <td>2.525946</td>\n",
       "      <td>NaN</td>\n",
       "      <td>2.897191</td>\n",
       "    </tr>\n",
       "    <tr>\n",
       "      <th>3</th>\n",
       "      <td>3.396456</td>\n",
       "      <td>5.386071</td>\n",
       "      <td>NaN</td>\n",
       "      <td>2.503248</td>\n",
       "      <td>3.517212</td>\n",
       "    </tr>\n",
       "    <tr>\n",
       "      <th>4</th>\n",
       "      <td>4.387812</td>\n",
       "      <td>3.365264</td>\n",
       "      <td>5.612532</td>\n",
       "      <td>5.573375</td>\n",
       "      <td>4.767746</td>\n",
       "    </tr>\n",
       "  </tbody>\n",
       "</table>\n",
       "</div><p>...</p><div>\n",
       "<style scoped>\n",
       "    .dataframe tbody tr th:only-of-type {\n",
       "        vertical-align: middle;\n",
       "    }\n",
       "\n",
       "    .dataframe tbody tr th {\n",
       "        vertical-align: top;\n",
       "    }\n",
       "\n",
       "    .dataframe thead th {\n",
       "        text-align: right;\n",
       "    }\n",
       "</style>\n",
       "<table border=\"1\" class=\"dataframe\">\n",
       "  <thead>\n",
       "    <tr style=\"text-align: right;\">\n",
       "      <th></th>\n",
       "      <th></th>\n",
       "      <th>0</th>\n",
       "      <th>1</th>\n",
       "      <th>2</th>\n",
       "      <th>3</th>\n",
       "      <th>4</th>\n",
       "    </tr>\n",
       "    <tr>\n",
       "      <th>s_idx</th>\n",
       "      <th>t_idx</th>\n",
       "      <th></th>\n",
       "      <th></th>\n",
       "      <th></th>\n",
       "      <th></th>\n",
       "      <th></th>\n",
       "    </tr>\n",
       "  </thead>\n",
       "  <tbody>\n",
       "    <tr>\n",
       "      <th rowspan=\"5\" valign=\"top\">99</th>\n",
       "      <th>0</th>\n",
       "      <td>0.534060</td>\n",
       "      <td>2.147206</td>\n",
       "      <td>NaN</td>\n",
       "      <td>0.303405</td>\n",
       "      <td>0.251866</td>\n",
       "    </tr>\n",
       "    <tr>\n",
       "      <th>1</th>\n",
       "      <td>1.699425</td>\n",
       "      <td>1.186061</td>\n",
       "      <td>2.125171</td>\n",
       "      <td>NaN</td>\n",
       "      <td>1.950620</td>\n",
       "    </tr>\n",
       "    <tr>\n",
       "      <th>2</th>\n",
       "      <td>2.711652</td>\n",
       "      <td>3.304597</td>\n",
       "      <td>3.211545</td>\n",
       "      <td>3.718128</td>\n",
       "      <td>2.838271</td>\n",
       "    </tr>\n",
       "    <tr>\n",
       "      <th>3</th>\n",
       "      <td>3.361431</td>\n",
       "      <td>4.852409</td>\n",
       "      <td>NaN</td>\n",
       "      <td>1.191204</td>\n",
       "      <td>3.910778</td>\n",
       "    </tr>\n",
       "    <tr>\n",
       "      <th>4</th>\n",
       "      <td>4.502795</td>\n",
       "      <td>4.500195</td>\n",
       "      <td>4.985458</td>\n",
       "      <td>2.131713</td>\n",
       "      <td>NaN</td>\n",
       "    </tr>\n",
       "  </tbody>\n",
       "</table>\n",
       "</div>"
      ],
      "text/plain": [
       "TimeSeriesSamples() with data:\n",
       "                    0         1         2         3         4\n",
       "s_idx t_idx                                                  \n",
       "0     0      0.419045  0.893763  0.780285  0.660508  1.047522\n",
       "      1      1.257931  2.172271       NaN  2.360713  1.981578\n",
       "      2      2.247657       NaN  2.525946       NaN  2.897191\n",
       "      3      3.396456  5.386071       NaN  2.503248  3.517212\n",
       "      4      4.387812  3.365264  5.612532  5.573375  4.767746\n",
       "...\n",
       "                    0         1         2         3         4\n",
       "s_idx t_idx                                                  \n",
       "99    0      0.534060  2.147206       NaN  0.303405  0.251866\n",
       "      1      1.699425  1.186061  2.125171       NaN  1.950620\n",
       "      2      2.711652  3.304597  3.211545  3.718128  2.838271\n",
       "      3      3.361431  4.852409       NaN  1.191204  3.910778\n",
       "      4      4.502795  4.500195  4.985458  2.131713       NaN"
      ]
     },
     "execution_count": 3,
     "metadata": {},
     "output_type": "execute_result"
    }
   ],
   "source": [
    "data.temporal_covariates"
   ]
  },
  {
   "cell_type": "markdown",
   "metadata": {},
   "source": [
    "Plot temporal covariates for one sample (sample ID: `0`)."
   ]
  },
  {
   "cell_type": "code",
   "execution_count": 4,
   "metadata": {},
   "outputs": [
    {
     "data": {
      "text/plain": [
       "<AxesSubplot:xlabel='t_idx'>"
      ]
     },
     "execution_count": 4,
     "metadata": {},
     "output_type": "execute_result"
    },
    {
     "data": {
      "image/png": "[encoded data removed]",
      "text/plain": [
       "<Figure size 432x288 with 1 Axes>"
      ]
     },
     "metadata": {
      "needs_background": "light"
     },
     "output_type": "display_data"
    }
   ],
   "source": [
    "data.temporal_covariates[0].plot()"
   ]
  },
  {
   "cell_type": "markdown",
   "metadata": {},
   "source": [
    "### 2. Pre-process your data."
   ]
  },
  {
   "cell_type": "markdown",
   "metadata": {},
   "source": [
    "* Use an imputer to impute missing values in the temporal covariates.\n",
    "* Use a scaler to scale the temporal covariates in the `[0, 1]` range."
   ]
  },
  {
   "cell_type": "code",
   "execution_count": 5,
   "metadata": {},
   "outputs": [],
   "source": [
    "from clairvoyance2.imputation import TemporalDataDefaultImputer\n",
    "\n",
    "imputer = TemporalDataDefaultImputer()"
   ]
  },
  {
   "cell_type": "code",
   "execution_count": 6,
   "metadata": {},
   "outputs": [
    {
     "data": {
      "text/plain": [
       "TemporalDataMinMaxScaler(\n",
       "    params:\n",
       "    {\n",
       "        \"apply_to\": \"temporal_covariates\",\n",
       "        \"feature_range\": [\n",
       "            0,\n",
       "            1\n",
       "        ],\n",
       "        \"copy\": True,\n",
       "        \"clip\": False\n",
       "    }\n",
       ")"
      ]
     },
     "execution_count": 6,
     "metadata": {},
     "output_type": "execute_result"
    }
   ],
   "source": [
    "from clairvoyance2.preprocessing import TemporalDataMinMaxScaler\n",
    "\n",
    "scaler = TemporalDataMinMaxScaler()\n",
    "scaler"
   ]
  },
  {
   "cell_type": "code",
   "execution_count": 7,
   "metadata": {},
   "outputs": [],
   "source": [
    "data = imputer.fit_transform(data)\n",
    "data = scaler.fit_transform(data)"
   ]
  },
  {
   "cell_type": "code",
   "execution_count": 8,
   "metadata": {},
   "outputs": [
    {
     "data": {
      "text/plain": [
       "<AxesSubplot:xlabel='t_idx'>"
      ]
     },
     "execution_count": 8,
     "metadata": {},
     "output_type": "execute_result"
    },
    {
     "data": {
      "image/png": "[encoded data removed]",
      "text/plain": [
       "<Figure size 432x288 with 1 Axes>"
      ]
     },
     "metadata": {
      "needs_background": "light"
     },
     "output_type": "display_data"
    }
   ],
   "source": [
    "data.temporal_covariates[0].plot()"
   ]
  },
  {
   "cell_type": "markdown",
   "metadata": {},
   "source": [
    "### Do N-step ahead prediction.\n",
    "\n",
    "Fot this example, split out some of the temporal covariate features (labelled `[1, 4]`) as targets.\n",
    "Features` [0, 1, 2]` will then be used as covariates for prediction."
   ]
  },
  {
   "cell_type": "code",
   "execution_count": 9,
   "metadata": {},
   "outputs": [
    {
     "data": {
      "text/plain": [
       "Dataset(\n",
       "    temporal_covariates=TimeSeriesSamples([100,*,3]),\n",
       "    static_covariates=StaticSamples([100,4]),\n",
       "    temporal_targets=TimeSeriesSamples([100,*,2]),\n",
       ")"
      ]
     },
     "execution_count": 9,
     "metadata": {},
     "output_type": "execute_result"
    }
   ],
   "source": [
    "from clairvoyance2.preprocessing import TemporalTargetsExtractor\n",
    "\n",
    "data = TemporalTargetsExtractor(params=dict(targets=[1, 4])).fit_transform(data)\n",
    "data"
   ]
  },
  {
   "cell_type": "code",
   "execution_count": 10,
   "metadata": {},
   "outputs": [
    {
     "data": {
      "text/plain": [
       "<AxesSubplot:xlabel='t_idx'>"
      ]
     },
     "execution_count": 10,
     "metadata": {},
     "output_type": "execute_result"
    },
    {
     "data": {
      "image/png": "[encoded data removed]",
      "text/plain": [
       "<Figure size 432x288 with 1 Axes>"
      ]
     },
     "metadata": {
      "needs_background": "light"
     },
     "output_type": "display_data"
    }
   ],
   "source": [
    "data.temporal_targets[0].plot()"
   ]
  },
  {
   "cell_type": "markdown",
   "metadata": {},
   "source": [
    "Define a prediction model."
   ]
  },
  {
   "cell_type": "code",
   "execution_count": 11,
   "metadata": {},
   "outputs": [
    {
     "data": {
      "text/plain": [
       "RNNRegressor(\n",
       "    params:\n",
       "    {\n",
       "        \"rnn_type\": \"LSTM\",\n",
       "        \"hidden_size\": 100,\n",
       "        \"num_layers\": 1,\n",
       "        \"bias\": True,\n",
       "        \"dropout\": 0.0,\n",
       "        \"bidirectional\": False,\n",
       "        \"nonlinearity\": null,\n",
       "        \"proj_size\": null,\n",
       "        \"max_len\": null,\n",
       "        \"optimizer_str\": \"Adam\",\n",
       "        \"optimizer_kwargs\": {\n",
       "            \"lr\": 0.01,\n",
       "            \"weight_decay\": 1e-05\n",
       "        },\n",
       "        \"batch_size\": 32,\n",
       "        \"epochs\": 10,\n",
       "        \"use_past_targets\": True,\n",
       "        \"ff_hidden_dims\": [],\n",
       "        \"ff_out_activation\": null,\n",
       "        \"padding_indicator\": -999.0\n",
       "    }\n",
       ")"
      ]
     },
     "execution_count": 11,
     "metadata": {},
     "output_type": "execute_result"
    }
   ],
   "source": [
    "from clairvoyance2.prediction import RNNRegressor\n",
    "\n",
    "predictor = RNNRegressor(params=dict(epochs=10))\n",
    "predictor"
   ]
  },
  {
   "cell_type": "markdown",
   "metadata": {},
   "source": [
    "Choose number of N-steps ahead, here `1`, and fit the model."
   ]
  },
  {
   "cell_type": "code",
   "execution_count": 12,
   "metadata": {},
   "outputs": [
    {
     "name": "stdout",
     "output_type": "stream",
     "text": [
      "Epoch: 0, Loss: 0.288144798129797\n",
      "Epoch: 1, Loss: 0.19515693828463554\n",
      "Epoch: 2, Loss: 0.07432992536574602\n",
      "Epoch: 3, Loss: 0.05980007685720921\n",
      "Epoch: 4, Loss: 0.03065473187714815\n",
      "Epoch: 5, Loss: 0.03836615949869156\n",
      "Epoch: 6, Loss: 0.017662691306322812\n",
      "Epoch: 7, Loss: 0.012544937687925995\n",
      "Epoch: 8, Loss: 0.010179792530834675\n",
      "Epoch: 9, Loss: 0.00906221430748701\n"
     ]
    }
   ],
   "source": [
    "from clairvoyance2 import NStepAheadHorizon\n",
    "\n",
    "predictor.fit(data, horizon=NStepAheadHorizon(1));"
   ]
  },
  {
   "cell_type": "markdown",
   "metadata": {},
   "source": [
    "We can now make predictions."
   ]
  },
  {
   "cell_type": "code",
   "execution_count": 13,
   "metadata": {},
   "outputs": [
    {
     "data": {
      "text/plain": [
       "<AxesSubplot:>"
      ]
     },
     "execution_count": 13,
     "metadata": {},
     "output_type": "execute_result"
    },
    {
     "data": {
      "image/png": "[encoded data removed]",
      "text/plain": [
       "<Figure size 432x288 with 1 Axes>"
      ]
     },
     "metadata": {
      "needs_background": "light"
     },
     "output_type": "display_data"
    }
   ],
   "source": [
    "predicted_time_series = predictor.predict(data=data, horizon=NStepAheadHorizon(1))\n",
    "\n",
    "predicted_time_series[0].plot()"
   ]
  },
  {
   "cell_type": "markdown",
   "metadata": {},
   "source": [
    "Finally, to evaluate the results using a metric."
   ]
  },
  {
   "cell_type": "code",
   "execution_count": 14,
   "metadata": {},
   "outputs": [
    {
     "name": "stdout",
     "output_type": "stream",
     "text": [
      "RMSE = 0.046\n"
     ]
    }
   ],
   "source": [
    "from clairvoyance2.metrics import rmse_t\n",
    "\n",
    "metric = rmse_t(data.temporal_targets, predicted_time_series)\n",
    "print(f\"RMSE = {metric:.3f}\")"
   ]
  }
 ],
 "metadata": {
  "kernelspec": {
   "display_name": "Python 3.8.13 ('RE_py38_clairvoyance2')",
   "language": "python",
   "name": "python3"
  },
  "language_info": {
   "codemirror_mode": {
    "name": "ipython",
    "version": 3
   },
   "file_extension": ".py",
   "mimetype": "text/x-python",
   "name": "python",
   "nbconvert_exporter": "python",
   "pygments_lexer": "ipython3",
   "version": "3.8.13"
  },
  "orig_nbformat": 4,
  "vscode": {
   "interpreter": {
    "hash": "28f669ef98b458b48b6ea3bb545ef32550bd48e1b8d63873d6fdc96e5d9cf2a8"
   }
  }
 },
 "nbformat": 4,
 "nbformat_minor": 2
}
