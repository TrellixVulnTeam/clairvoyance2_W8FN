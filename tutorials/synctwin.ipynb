{
 "cells": [
  {
   "cell_type": "markdown",
   "metadata": {},
   "source": [
    "## Counterfactual prediction using `SyncTwin`\n",
    "\n",
    "`TODO: More detail`"
   ]
  },
  {
   "cell_type": "markdown",
   "metadata": {},
   "source": [
    "### 1. Get some training data."
   ]
  },
  {
   "cell_type": "code",
   "execution_count": 1,
   "metadata": {},
   "outputs": [
    {
     "name": "stdout",
     "output_type": "stream",
     "text": [
      "Generating simple PKPD dataset with random seed 100...\n"
     ]
    },
    {
     "data": {
      "text/plain": [
       "Dataset(\n",
       "    temporal_covariates=TimeSeriesSamples([400,30,2]),\n",
       "    temporal_targets=TimeSeriesSamples([400,30,1]),\n",
       "    event_treatments=EventSamples([400,1]),\n",
       ")"
      ]
     },
     "execution_count": 1,
     "metadata": {},
     "output_type": "execute_result"
    }
   ],
   "source": [
    "from clairvoyance2.datasets import simple_pkpd_dataset\n",
    "\n",
    "data = simple_pkpd_dataset(\n",
    "    n_timesteps=30,\n",
    "    time_index_treatment_event=25,\n",
    "    n_control_samples=200,\n",
    "    n_treated_samples=200,\n",
    "    seed=100,\n",
    ")\n",
    "\n",
    "data"
   ]
  },
  {
   "cell_type": "code",
   "execution_count": 2,
   "metadata": {},
   "outputs": [
    {
     "data": {
      "text/html": [
       "<p><span style=\"font-family: monospace;\">TimeSeriesSamples()</span> with data:</p><div>\n",
       "<style scoped>\n",
       "    .dataframe tbody tr th:only-of-type {\n",
       "        vertical-align: middle;\n",
       "    }\n",
       "\n",
       "    .dataframe tbody tr th {\n",
       "        vertical-align: top;\n",
       "    }\n",
       "\n",
       "    .dataframe thead th {\n",
       "        text-align: right;\n",
       "    }\n",
       "</style>\n",
       "<table border=\"1\" class=\"dataframe\">\n",
       "  <thead>\n",
       "    <tr style=\"text-align: right;\">\n",
       "      <th></th>\n",
       "      <th></th>\n",
       "      <th>k_in</th>\n",
       "      <th>p</th>\n",
       "    </tr>\n",
       "    <tr>\n",
       "      <th>s_idx</th>\n",
       "      <th>t_idx</th>\n",
       "      <th></th>\n",
       "      <th></th>\n",
       "    </tr>\n",
       "  </thead>\n",
       "  <tbody>\n",
       "    <tr>\n",
       "      <th rowspan=\"5\" valign=\"top\">0</th>\n",
       "      <th>0</th>\n",
       "      <td>-0.656810</td>\n",
       "      <td>0.136082</td>\n",
       "    </tr>\n",
       "    <tr>\n",
       "      <th>1</th>\n",
       "      <td>-0.701413</td>\n",
       "      <td>-0.223731</td>\n",
       "    </tr>\n",
       "    <tr>\n",
       "      <th>2</th>\n",
       "      <td>-0.772370</td>\n",
       "      <td>-0.286414</td>\n",
       "    </tr>\n",
       "    <tr>\n",
       "      <th>3</th>\n",
       "      <td>-0.791436</td>\n",
       "      <td>-0.525703</td>\n",
       "    </tr>\n",
       "    <tr>\n",
       "      <th>4</th>\n",
       "      <td>-0.916734</td>\n",
       "      <td>-0.450333</td>\n",
       "    </tr>\n",
       "  </tbody>\n",
       "</table>\n",
       "</div><p>...</p><div>\n",
       "<style scoped>\n",
       "    .dataframe tbody tr th:only-of-type {\n",
       "        vertical-align: middle;\n",
       "    }\n",
       "\n",
       "    .dataframe tbody tr th {\n",
       "        vertical-align: top;\n",
       "    }\n",
       "\n",
       "    .dataframe thead th {\n",
       "        text-align: right;\n",
       "    }\n",
       "</style>\n",
       "<table border=\"1\" class=\"dataframe\">\n",
       "  <thead>\n",
       "    <tr style=\"text-align: right;\">\n",
       "      <th></th>\n",
       "      <th></th>\n",
       "      <th>k_in</th>\n",
       "      <th>p</th>\n",
       "    </tr>\n",
       "    <tr>\n",
       "      <th>s_idx</th>\n",
       "      <th>t_idx</th>\n",
       "      <th></th>\n",
       "      <th></th>\n",
       "    </tr>\n",
       "  </thead>\n",
       "  <tbody>\n",
       "    <tr>\n",
       "      <th rowspan=\"5\" valign=\"top\">399</th>\n",
       "      <th>0</th>\n",
       "      <td>1.214852</td>\n",
       "      <td>0.269393</td>\n",
       "    </tr>\n",
       "    <tr>\n",
       "      <th>1</th>\n",
       "      <td>1.354371</td>\n",
       "      <td>0.519990</td>\n",
       "    </tr>\n",
       "    <tr>\n",
       "      <th>2</th>\n",
       "      <td>1.356561</td>\n",
       "      <td>0.964004</td>\n",
       "    </tr>\n",
       "    <tr>\n",
       "      <th>3</th>\n",
       "      <td>1.367321</td>\n",
       "      <td>0.939424</td>\n",
       "    </tr>\n",
       "    <tr>\n",
       "      <th>4</th>\n",
       "      <td>1.355675</td>\n",
       "      <td>0.960929</td>\n",
       "    </tr>\n",
       "  </tbody>\n",
       "</table>\n",
       "</div>"
      ],
      "text/plain": [
       "TimeSeriesSamples() with data:\n",
       "                 k_in         p\n",
       "s_idx t_idx                    \n",
       "0     0     -0.656810  0.136082\n",
       "      1     -0.701413 -0.223731\n",
       "      2     -0.772370 -0.286414\n",
       "      3     -0.791436 -0.525703\n",
       "      4     -0.916734 -0.450333\n",
       "...\n",
       "                 k_in         p\n",
       "s_idx t_idx                    \n",
       "399   0      1.214852  0.269393\n",
       "      1      1.354371  0.519990\n",
       "      2      1.356561  0.964004\n",
       "      3      1.367321  0.939424\n",
       "      4      1.355675  0.960929"
      ]
     },
     "execution_count": 2,
     "metadata": {},
     "output_type": "execute_result"
    }
   ],
   "source": [
    "data.temporal_covariates"
   ]
  },
  {
   "cell_type": "code",
   "execution_count": 3,
   "metadata": {},
   "outputs": [
    {
     "data": {
      "text/html": [
       "<p><span style=\"font-family: monospace;\">TimeSeriesSamples()</span> with data:</p><div>\n",
       "<style scoped>\n",
       "    .dataframe tbody tr th:only-of-type {\n",
       "        vertical-align: middle;\n",
       "    }\n",
       "\n",
       "    .dataframe tbody tr th {\n",
       "        vertical-align: top;\n",
       "    }\n",
       "\n",
       "    .dataframe thead th {\n",
       "        text-align: right;\n",
       "    }\n",
       "</style>\n",
       "<table border=\"1\" class=\"dataframe\">\n",
       "  <thead>\n",
       "    <tr style=\"text-align: right;\">\n",
       "      <th></th>\n",
       "      <th></th>\n",
       "      <th>y</th>\n",
       "    </tr>\n",
       "    <tr>\n",
       "      <th>s_idx</th>\n",
       "      <th>t_idx</th>\n",
       "      <th></th>\n",
       "    </tr>\n",
       "  </thead>\n",
       "  <tbody>\n",
       "    <tr>\n",
       "      <th rowspan=\"5\" valign=\"top\">0</th>\n",
       "      <th>0</th>\n",
       "      <td>-0.147319</td>\n",
       "    </tr>\n",
       "    <tr>\n",
       "      <th>1</th>\n",
       "      <td>-0.041310</td>\n",
       "    </tr>\n",
       "    <tr>\n",
       "      <th>2</th>\n",
       "      <td>0.025816</td>\n",
       "    </tr>\n",
       "    <tr>\n",
       "      <th>3</th>\n",
       "      <td>0.111477</td>\n",
       "    </tr>\n",
       "    <tr>\n",
       "      <th>4</th>\n",
       "      <td>-0.138686</td>\n",
       "    </tr>\n",
       "  </tbody>\n",
       "</table>\n",
       "</div><p>...</p><div>\n",
       "<style scoped>\n",
       "    .dataframe tbody tr th:only-of-type {\n",
       "        vertical-align: middle;\n",
       "    }\n",
       "\n",
       "    .dataframe tbody tr th {\n",
       "        vertical-align: top;\n",
       "    }\n",
       "\n",
       "    .dataframe thead th {\n",
       "        text-align: right;\n",
       "    }\n",
       "</style>\n",
       "<table border=\"1\" class=\"dataframe\">\n",
       "  <thead>\n",
       "    <tr style=\"text-align: right;\">\n",
       "      <th></th>\n",
       "      <th></th>\n",
       "      <th>y</th>\n",
       "    </tr>\n",
       "    <tr>\n",
       "      <th>s_idx</th>\n",
       "      <th>t_idx</th>\n",
       "      <th></th>\n",
       "    </tr>\n",
       "  </thead>\n",
       "  <tbody>\n",
       "    <tr>\n",
       "      <th rowspan=\"5\" valign=\"top\">399</th>\n",
       "      <th>0</th>\n",
       "      <td>0.016360</td>\n",
       "    </tr>\n",
       "    <tr>\n",
       "      <th>1</th>\n",
       "      <td>0.062205</td>\n",
       "    </tr>\n",
       "    <tr>\n",
       "      <th>2</th>\n",
       "      <td>-0.142235</td>\n",
       "    </tr>\n",
       "    <tr>\n",
       "      <th>3</th>\n",
       "      <td>0.147936</td>\n",
       "    </tr>\n",
       "    <tr>\n",
       "      <th>4</th>\n",
       "      <td>0.345236</td>\n",
       "    </tr>\n",
       "  </tbody>\n",
       "</table>\n",
       "</div>"
      ],
      "text/plain": [
       "TimeSeriesSamples() with data:\n",
       "                    y\n",
       "s_idx t_idx          \n",
       "0     0     -0.147319\n",
       "      1     -0.041310\n",
       "      2      0.025816\n",
       "      3      0.111477\n",
       "      4     -0.138686\n",
       "...\n",
       "                    y\n",
       "s_idx t_idx          \n",
       "399   0      0.016360\n",
       "      1      0.062205\n",
       "      2     -0.142235\n",
       "      3      0.147936\n",
       "      4      0.345236"
      ]
     },
     "execution_count": 3,
     "metadata": {},
     "output_type": "execute_result"
    }
   ],
   "source": [
    "data.temporal_targets"
   ]
  },
  {
   "cell_type": "code",
   "execution_count": 4,
   "metadata": {},
   "outputs": [
    {
     "data": {
      "text/html": [
       "<p><span style=\"font-family: monospace;\">EventSamples()</span> with data:</p><div>\n",
       "<style scoped>\n",
       "    .dataframe tbody tr th:only-of-type {\n",
       "        vertical-align: middle;\n",
       "    }\n",
       "\n",
       "    .dataframe tbody tr th {\n",
       "        vertical-align: top;\n",
       "    }\n",
       "\n",
       "    .dataframe thead th {\n",
       "        text-align: right;\n",
       "    }\n",
       "</style>\n",
       "<table border=\"1\" class=\"dataframe\">\n",
       "  <thead>\n",
       "    <tr style=\"text-align: right;\">\n",
       "      <th></th>\n",
       "      <th></th>\n",
       "      <th>a</th>\n",
       "    </tr>\n",
       "    <tr>\n",
       "      <th>s_idx</th>\n",
       "      <th>t_idx</th>\n",
       "      <th></th>\n",
       "    </tr>\n",
       "  </thead>\n",
       "  <tbody>\n",
       "    <tr>\n",
       "      <th>0</th>\n",
       "      <th>25</th>\n",
       "      <td>0.0</td>\n",
       "    </tr>\n",
       "    <tr>\n",
       "      <th>1</th>\n",
       "      <th>25</th>\n",
       "      <td>0.0</td>\n",
       "    </tr>\n",
       "    <tr>\n",
       "      <th>2</th>\n",
       "      <th>25</th>\n",
       "      <td>0.0</td>\n",
       "    </tr>\n",
       "    <tr>\n",
       "      <th>3</th>\n",
       "      <th>25</th>\n",
       "      <td>0.0</td>\n",
       "    </tr>\n",
       "    <tr>\n",
       "      <th>4</th>\n",
       "      <th>25</th>\n",
       "      <td>0.0</td>\n",
       "    </tr>\n",
       "    <tr>\n",
       "      <th>...</th>\n",
       "      <th>...</th>\n",
       "      <td>...</td>\n",
       "    </tr>\n",
       "    <tr>\n",
       "      <th>395</th>\n",
       "      <th>25</th>\n",
       "      <td>1.0</td>\n",
       "    </tr>\n",
       "    <tr>\n",
       "      <th>396</th>\n",
       "      <th>25</th>\n",
       "      <td>1.0</td>\n",
       "    </tr>\n",
       "    <tr>\n",
       "      <th>397</th>\n",
       "      <th>25</th>\n",
       "      <td>1.0</td>\n",
       "    </tr>\n",
       "    <tr>\n",
       "      <th>398</th>\n",
       "      <th>25</th>\n",
       "      <td>1.0</td>\n",
       "    </tr>\n",
       "    <tr>\n",
       "      <th>399</th>\n",
       "      <th>25</th>\n",
       "      <td>1.0</td>\n",
       "    </tr>\n",
       "  </tbody>\n",
       "</table>\n",
       "<p>400 rows × 1 columns</p>\n",
       "</div>"
      ],
      "text/plain": [
       "EventSamples() with data:\n",
       "               a\n",
       "s_idx t_idx     \n",
       "0     25     0.0\n",
       "1     25     0.0\n",
       "2     25     0.0\n",
       "3     25     0.0\n",
       "4     25     0.0\n",
       "...          ...\n",
       "395   25     1.0\n",
       "396   25     1.0\n",
       "397   25     1.0\n",
       "398   25     1.0\n",
       "399   25     1.0\n",
       "\n",
       "[400 rows x 1 columns]"
      ]
     },
     "execution_count": 4,
     "metadata": {},
     "output_type": "execute_result"
    }
   ],
   "source": [
    "data.event_treatments"
   ]
  },
  {
   "cell_type": "markdown",
   "metadata": {},
   "source": [
    "### 2. Initialize a `SyncTwin` model"
   ]
  },
  {
   "cell_type": "code",
   "execution_count": 5,
   "metadata": {},
   "outputs": [
    {
     "data": {
      "text/plain": [
       "SyncTwinRegressor(\n",
       "    params:\n",
       "    {\n",
       "        \"hidden_size\": 20,\n",
       "        \"tau\": 1.0,\n",
       "        \"lambda_prognostic\": 1.0,\n",
       "        \"lambda_reconstruction\": 1.0,\n",
       "        \"batch_size\": 32,\n",
       "        \"pretraining_iterations\": 1000,\n",
       "        \"matching_iterations\": 1000,\n",
       "        \"inference_iterations\": 1000,\n",
       "        \"use_validation_set_in_training\": True,\n",
       "        \"treatment_status_is_treated\": 1\n",
       "    }\n",
       ")"
      ]
     },
     "execution_count": 5,
     "metadata": {},
     "output_type": "execute_result"
    }
   ],
   "source": [
    "from clairvoyance2.treatment_effects import SyncTwinRegressor\n",
    "# Note \"Regressor\" since our targets are continuous values.\n",
    "\n",
    "synctwin = SyncTwinRegressor(\n",
    "    params=dict(\n",
    "        pretraining_iterations=1000, \n",
    "        matching_iterations=1000, \n",
    "        inference_iterations=1000,\n",
    "        use_validation_set_in_training=True,\n",
    "    )\n",
    ")\n",
    "synctwin"
   ]
  },
  {
   "cell_type": "code",
   "execution_count": 6,
   "metadata": {},
   "outputs": [
    {
     "name": "stdout",
     "output_type": "stream",
     "text": [
      "=== Training Stage 1: Pretraining ===\n",
      "Iter 0100 | Total Loss 363.235992\n",
      "Iter 0200 | Total Loss 301.335205\n",
      "Iter 0300 | Total Loss 298.448120\n",
      "Iter 0400 | Total Loss 299.357056\n",
      "Iter 0500 | Total Loss 269.431885\n",
      "Iter 0600 | Total Loss 287.156982\n",
      "Iter 0700 | Total Loss 262.853485\n",
      "Iter 0800 | Total Loss 275.132019\n",
      "Iter 0900 | Total Loss 286.931549\n",
      "Iter 1000 | Total Loss 280.458466\n",
      "=== Training Stage 2: Matching ===\n",
      "Iter 0100 | Total Loss 0.063502\n",
      "Iter 0200 | Total Loss 0.068512\n",
      "Iter 0300 | Total Loss 0.068720\n",
      "Iter 0400 | Total Loss 0.071501\n",
      "Iter 0500 | Total Loss 0.063645\n",
      "Iter 0600 | Total Loss 0.060106\n",
      "Iter 0700 | Total Loss 0.057275\n",
      "Iter 0800 | Total Loss 0.058163\n",
      "Iter 0900 | Total Loss 0.065288\n",
      "Iter 1000 | Total Loss 0.056512\n"
     ]
    }
   ],
   "source": [
    "synctwin.fit(data=data, device=\"cpu\");"
   ]
  },
  {
   "cell_type": "markdown",
   "metadata": {},
   "source": [
    "### 3. Predict counterfactuals on new data."
   ]
  },
  {
   "cell_type": "code",
   "execution_count": 7,
   "metadata": {},
   "outputs": [
    {
     "name": "stdout",
     "output_type": "stream",
     "text": [
      "Generating simple PKPD dataset with random seed 777...\n"
     ]
    },
    {
     "data": {
      "text/plain": [
       "Dataset(\n",
       "    temporal_covariates=TimeSeriesSamples([100,30,2]),\n",
       "    temporal_targets=TimeSeriesSamples([100,30,1]),\n",
       "    event_treatments=EventSamples([100,1]),\n",
       ")"
      ]
     },
     "execution_count": 7,
     "metadata": {},
     "output_type": "execute_result"
    }
   ],
   "source": [
    "new_data = simple_pkpd_dataset(\n",
    "    n_timesteps=30,\n",
    "    time_index_treatment_event=25,\n",
    "    n_control_samples=80,\n",
    "    n_treated_samples=20,\n",
    "    seed=777,\n",
    ")\n",
    "\n",
    "new_data"
   ]
  },
  {
   "cell_type": "code",
   "execution_count": 8,
   "metadata": {},
   "outputs": [
    {
     "name": "stdout",
     "output_type": "stream",
     "text": [
      "The factual treatment for sample 99 was:\n"
     ]
    },
    {
     "data": {
      "text/html": [
       "<p><span style=\"font-family: monospace;\">EventSamples()</span> with data:</p><div>\n",
       "<style scoped>\n",
       "    .dataframe tbody tr th:only-of-type {\n",
       "        vertical-align: middle;\n",
       "    }\n",
       "\n",
       "    .dataframe tbody tr th {\n",
       "        vertical-align: top;\n",
       "    }\n",
       "\n",
       "    .dataframe thead th {\n",
       "        text-align: right;\n",
       "    }\n",
       "</style>\n",
       "<table border=\"1\" class=\"dataframe\">\n",
       "  <thead>\n",
       "    <tr style=\"text-align: right;\">\n",
       "      <th></th>\n",
       "      <th></th>\n",
       "      <th>a</th>\n",
       "    </tr>\n",
       "    <tr>\n",
       "      <th>s_idx</th>\n",
       "      <th>t_idx</th>\n",
       "      <th></th>\n",
       "    </tr>\n",
       "  </thead>\n",
       "  <tbody>\n",
       "    <tr>\n",
       "      <th>99</th>\n",
       "      <th>25</th>\n",
       "      <td>1.0</td>\n",
       "    </tr>\n",
       "  </tbody>\n",
       "</table>\n",
       "</div>"
      ],
      "text/plain": [
       "EventSamples() with data:\n",
       "               a\n",
       "s_idx t_idx     \n",
       "99    25     1.0"
      ]
     },
     "execution_count": 8,
     "metadata": {},
     "output_type": "execute_result"
    }
   ],
   "source": [
    "predict_for_sample = 99\n",
    "\n",
    "print(f\"The factual treatment for sample {predict_for_sample} was:\")\n",
    "new_data.event_treatments[predict_for_sample]"
   ]
  },
  {
   "cell_type": "code",
   "execution_count": 9,
   "metadata": {},
   "outputs": [
    {
     "data": {
      "text/plain": [
       "TimeIndexHorizon(time_index_sequence=[RangeIndex(start=25, stop=30, step=1, name='t_idx')])"
      ]
     },
     "execution_count": 9,
     "metadata": {},
     "output_type": "execute_result"
    }
   ],
   "source": [
    "# Get a time horizon for making counterfactual predictions.\n",
    "\n",
    "prediction_outcomes_horizon = synctwin.get_possible_prediction_horizon(sample_index=predict_for_sample, data=new_data)\n",
    "prediction_outcomes_horizon"
   ]
  },
  {
   "cell_type": "code",
   "execution_count": 10,
   "metadata": {},
   "outputs": [
    {
     "name": "stdout",
     "output_type": "stream",
     "text": [
      "1 possible treatment scenario(s):\n"
     ]
    },
    {
     "data": {
      "text/html": [
       "<p><span style=\"font-family: monospace;\">EventSamples()</span> with data:</p><div>\n",
       "<style scoped>\n",
       "    .dataframe tbody tr th:only-of-type {\n",
       "        vertical-align: middle;\n",
       "    }\n",
       "\n",
       "    .dataframe tbody tr th {\n",
       "        vertical-align: top;\n",
       "    }\n",
       "\n",
       "    .dataframe thead th {\n",
       "        text-align: right;\n",
       "    }\n",
       "</style>\n",
       "<table border=\"1\" class=\"dataframe\">\n",
       "  <thead>\n",
       "    <tr style=\"text-align: right;\">\n",
       "      <th></th>\n",
       "      <th></th>\n",
       "      <th>a</th>\n",
       "    </tr>\n",
       "    <tr>\n",
       "      <th>s_idx</th>\n",
       "      <th>t_idx</th>\n",
       "      <th></th>\n",
       "    </tr>\n",
       "  </thead>\n",
       "  <tbody>\n",
       "    <tr>\n",
       "      <th>99</th>\n",
       "      <th>25</th>\n",
       "      <td>0.0</td>\n",
       "    </tr>\n",
       "  </tbody>\n",
       "</table>\n",
       "</div>"
      ],
      "text/plain": [
       "EventSamples() with data:\n",
       "               a\n",
       "s_idx t_idx     \n",
       "99    25     0.0"
      ]
     },
     "execution_count": 10,
     "metadata": {},
     "output_type": "execute_result"
    }
   ],
   "source": [
    "# Get a possible counterfactual treatment scenarios:\n",
    "# only one possible scenario, where the treatment was not done.\n",
    "\n",
    "treatment_scenarios = synctwin.get_possible_treatment_scenarios(sample_index=predict_for_sample, data=new_data)\n",
    "\n",
    "print(f\"{len(treatment_scenarios)} possible treatment scenario(s):\")\n",
    "treatment_scenarios[0]"
   ]
  },
  {
   "cell_type": "code",
   "execution_count": 11,
   "metadata": {},
   "outputs": [
    {
     "name": "stdout",
     "output_type": "stream",
     "text": [
      "=== Running Inference Stage 1: Matching ===\n",
      "Iter 0100 | Total Loss 0.076483\n",
      "Iter 0200 | Total Loss 0.068539\n",
      "Iter 0300 | Total Loss 0.061158\n",
      "Iter 0400 | Total Loss 0.056546\n",
      "Iter 0500 | Total Loss 0.071693\n",
      "Iter 0600 | Total Loss 0.058777\n",
      "Iter 0700 | Total Loss 0.062315\n",
      "Iter 0800 | Total Loss 0.052335\n",
      "Iter 0900 | Total Loss 0.059661\n",
      "Iter 1000 | Total Loss 0.059126\n",
      "=== Running Inference Stage 2: Computing Counterfactuals ===\n",
      "Done\n"
     ]
    }
   ],
   "source": [
    "# Predict counterfactual outcome time series.\n",
    "\n",
    "counterfactual_outcomes = synctwin.predict_counterfactuals(\n",
    "    data=new_data, \n",
    "    sample_index=predict_for_sample, \n",
    "    treatment_scenarios=treatment_scenarios, \n",
    "    horizon=prediction_outcomes_horizon\n",
    ")"
   ]
  },
  {
   "cell_type": "code",
   "execution_count": 13,
   "metadata": {},
   "outputs": [
    {
     "data": {
      "text/plain": [
       "<AxesSubplot:xlabel='t_idx'>"
      ]
     },
     "execution_count": 13,
     "metadata": {},
     "output_type": "execute_result"
    },
    {
     "data": {
      "image/png": "[encoded data removed]",
      "text/plain": [
       "<Figure size 432x288 with 1 Axes>"
      ]
     },
     "metadata": {
      "needs_background": "light"
     },
     "output_type": "display_data"
    }
   ],
   "source": [
    "ax = new_data.temporal_targets[predict_for_sample].plot()\n",
    "counterfactual_outcomes[0].plot(ax=ax)"
   ]
  }
 ],
 "metadata": {
  "kernelspec": {
   "display_name": "Python 3.8.13 ('RE_py38_clairvoyance2')",
   "language": "python",
   "name": "python3"
  },
  "language_info": {
   "codemirror_mode": {
    "name": "ipython",
    "version": 3
   },
   "file_extension": ".py",
   "mimetype": "text/x-python",
   "name": "python",
   "nbconvert_exporter": "python",
   "pygments_lexer": "ipython3",
   "version": "3.8.13"
  },
  "orig_nbformat": 4,
  "vscode": {
   "interpreter": {
    "hash": "28f669ef98b458b48b6ea3bb545ef32550bd48e1b8d63873d6fdc96e5d9cf2a8"
   }
  }
 },
 "nbformat": 4,
 "nbformat_minor": 2
}
